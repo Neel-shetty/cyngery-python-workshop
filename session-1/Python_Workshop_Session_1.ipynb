{
 "cells": [
  {
   "cell_type": "markdown",
   "id": "ecbd96e1",
   "metadata": {},
   "source": [
    "# Python Workshop - Session 1\n",
    "*Date: 2024-10-29*\n",
    "## Title: Intro to Python"
   ]
  },
  {
   "cell_type": "markdown",
   "id": "71a7b70c",
   "metadata": {},
   "source": [
    "### 1. About Python\n"
   ]
  },
  {
   "cell_type": "markdown",
   "id": "a319fe9c",
   "metadata": {},
   "source": [
    "Python is an interpreted, object-oriented, dynamically typed and garbage-collected high level language.\\\n",
    "Developed by Guido van Rossum, and released in 1991."
   ]
  },
  {
   "cell_type": "markdown",
   "id": "e41c1e98",
   "metadata": {},
   "source": [
    "### 2. Output Data from python"
   ]
  },
  {
   "cell_type": "markdown",
   "id": "4ee788c9",
   "metadata": {},
   "source": [
    "We can display output via `print()` function"
   ]
  },
  {
   "cell_type": "code",
   "execution_count": 1,
   "id": "5ca5f4a0",
   "metadata": {},
   "outputs": [
    {
     "name": "stdout",
     "output_type": "stream",
     "text": [
      "HEllO WORLD\n"
     ]
    }
   ],
   "source": [
    "print(\"HEllO WORLD\")"
   ]
  },
  {
   "cell_type": "markdown",
   "id": "6033b590",
   "metadata": {},
   "source": [
    "### 3. Variables\n"
   ]
  },
  {
   "cell_type": "markdown",
   "id": "7f414940",
   "metadata": {},
   "source": [
    "Variables are  like containers for storing data values."
   ]
  },
  {
   "cell_type": "code",
   "execution_count": 5,
   "id": "601c629e",
   "metadata": {},
   "outputs": [
    {
     "name": "stdout",
     "output_type": "stream",
     "text": [
      "1\n"
     ]
    }
   ],
   "source": [
    "_a123 = 1\n",
    "print(_a)"
   ]
  },
  {
   "cell_type": "markdown",
   "id": "e88d9ff7",
   "metadata": {},
   "source": [
    "### 4. Input data into Python"
   ]
  },
  {
   "cell_type": "markdown",
   "id": "72be9a5f",
   "metadata": {},
   "source": [
    "We can provide input to python using `input()` function"
   ]
  },
  {
   "cell_type": "code",
   "execution_count": 6,
   "id": "c0d71b70",
   "metadata": {},
   "outputs": [
    {
     "name": "stdout",
     "output_type": "stream",
     "text": [
      "123\n"
     ]
    }
   ],
   "source": [
    "a = input()\n",
    "print(a)"
   ]
  },
  {
   "cell_type": "markdown",
   "id": "977c3007",
   "metadata": {},
   "source": [
    "### 5. Arithmetic Operations\n"
   ]
  },
  {
   "cell_type": "markdown",
   "id": "8c7b366c",
   "metadata": {},
   "source": [
    "Basic operations to perform calculations in Python."
   ]
  },
  {
   "cell_type": "code",
   "execution_count": 4,
   "id": "1c39d5b1",
   "metadata": {},
   "outputs": [
    {
     "name": "stdout",
     "output_type": "stream",
     "text": [
      "1\n"
     ]
    }
   ],
   "source": [
    "a = input(\"Enter first number: \")\n",
    "b = input(\"Enter second number: \")\n",
    "print(a%b)"
   ]
  },
  {
   "cell_type": "markdown",
   "id": "5a58de94",
   "metadata": {},
   "source": [
    "### 6. Data Types"
   ]
  },
  {
   "cell_type": "markdown",
   "id": "fade2044",
   "metadata": {},
   "source": [
    "There are 5 primitive data types in Python: `int`, `str`, `float`, `bool`, and `None`.\\\n",
    "We can know the datatype of data using ``` type() ``` function"
   ]
  },
  {
   "cell_type": "code",
   "execution_count": 5,
   "id": "55c24cae",
   "metadata": {},
   "outputs": [
    {
     "name": "stdout",
     "output_type": "stream",
     "text": [
      "<class 'str'>\n"
     ]
    }
   ],
   "source": [
    "a = \"hi\"\n",
    "print(type(a))"
   ]
  },
  {
   "cell_type": "markdown",
   "id": "f8d29e0a",
   "metadata": {},
   "source": [
    "### 7. Type Conversion\n"
   ]
  },
  {
   "cell_type": "markdown",
   "id": "73f50ca9",
   "metadata": {},
   "source": [
    "Type conversion can be sometimes done implicitly. \\\n",
    "it can be explicitly done too into required datatype"
   ]
  },
  {
   "cell_type": "markdown",
   "id": "f602ae32",
   "metadata": {},
   "source": [
    "eg: string can be converted to integer using `int()`"
   ]
  },
  {
   "cell_type": "code",
   "execution_count": 6,
   "id": "9e3902ee",
   "metadata": {},
   "outputs": [
    {
     "name": "stdout",
     "output_type": "stream",
     "text": [
      "3\n"
     ]
    }
   ],
   "source": [
    "print(int(\"1\")+2)"
   ]
  },
  {
   "cell_type": "markdown",
   "id": "543410ee",
   "metadata": {},
   "source": [
    "### 8. Conditional Statements\n"
   ]
  },
  {
   "cell_type": "markdown",
   "id": "6e54baa3",
   "metadata": {},
   "source": [
    "Using if,elif,else to make decisions based on conditions."
   ]
  },
  {
   "cell_type": "code",
   "execution_count": null,
   "id": "268a5603",
   "metadata": {},
   "outputs": [],
   "source": []
  },
  {
   "cell_type": "markdown",
   "id": "b06972f6",
   "metadata": {},
   "source": [
    "### 9. Data Structures\n"
   ]
  },
  {
   "cell_type": "markdown",
   "id": "436a5707",
   "metadata": {},
   "source": [
    "Data structures are a way of organizing and storing data so that they can be accessed and worked with efficiently."
   ]
  },
  {
   "cell_type": "markdown",
   "id": "623a8880",
   "metadata": {},
   "source": [
    "#### 9.1 Lists"
   ]
  },
  {
   "cell_type": "markdown",
   "id": "f37828bb",
   "metadata": {},
   "source": [
    "Lists are ordered sequence of elements. Elements can be accessed based on their position i.e index"
   ]
  },
  {
   "cell_type": "code",
   "execution_count": 12,
   "id": "83346690",
   "metadata": {},
   "outputs": [
    {
     "name": "stdout",
     "output_type": "stream",
     "text": [
      "[1, 2, 4, 56, 7, '60']\n",
      "[1, 2, 56, 7, '60']\n",
      "56\n",
      "[66, 2, 56, 7, '60']\n"
     ]
    }
   ],
   "source": [
    "a = [1,2,4,56,7]\n",
    "a.append(\"60\")\n",
    "print(a)\n",
    "a.remove(4)\n",
    "print(a)\n",
    "a[0] = 66\n",
    "print(a[2])\n",
    "print(a)\n"
   ]
  },
  {
   "cell_type": "markdown",
   "id": "56a49192",
   "metadata": {},
   "source": [
    "#### 9.2 Dictionaries"
   ]
  },
  {
   "cell_type": "markdown",
   "id": "781f5292",
   "metadata": {},
   "source": [
    "A dictionary consists of a collection of key-value pairs. i.e ordered collection of key value pairs.\\\n",
    "Cannot contain duplicate keys"
   ]
  },
  {
   "cell_type": "code",
   "execution_count": 14,
   "id": "58ea2e1f",
   "metadata": {},
   "outputs": [
    {
     "name": "stdout",
     "output_type": "stream",
     "text": [
      "{'id': 1, 'name': 'kiran'}\n"
     ]
    }
   ],
   "source": [
    "d = {\"id\":1,\"name\":\"uday\"}\n",
    "d[\"name\"] = \"kiran\"\n",
    "print(d)"
   ]
  },
  {
   "cell_type": "markdown",
   "id": "068fe832",
   "metadata": {},
   "source": [
    "#### 9.3 Sets"
   ]
  },
  {
   "cell_type": "markdown",
   "id": "af94e254",
   "metadata": {},
   "source": [
    " Sets is a collection which is unordered and unindexed.\\\n",
    "  No duplicate members.We can add/remove elements but cannot modiy the elements"
   ]
  },
  {
   "cell_type": "code",
   "execution_count": null,
   "id": "5a6d0656",
   "metadata": {},
   "outputs": [],
   "source": []
  },
  {
   "cell_type": "markdown",
   "id": "2b78a81d",
   "metadata": {},
   "source": [
    "#### 9.4 Tuples"
   ]
  },
  {
   "cell_type": "markdown",
   "id": "7f8f4ac3",
   "metadata": {},
   "source": [
    "Tuple is a collection which is ordered and unchangeable. \\\n",
    "Allows duplicate members."
   ]
  },
  {
   "cell_type": "code",
   "execution_count": 18,
   "id": "da87d499",
   "metadata": {},
   "outputs": [
    {
     "name": "stdout",
     "output_type": "stream",
     "text": [
      "3\n"
     ]
    }
   ],
   "source": [
    "a= (1,2,3)\n",
    "print(a[2])\n",
    "# print(a)"
   ]
  },
  {
   "cell_type": "code",
   "execution_count": null,
   "id": "518c57b2",
   "metadata": {},
   "outputs": [],
   "source": [
    "# List example\n",
    "fruits = ['apple', 'banana', 'cherry']\n",
    "print(fruits)\n",
    "# Set example\n",
    "unique_numbers = {1, 2, 3, 3, 2}\n",
    "print(unique_numbers)\n",
    "# Dictionary example\n",
    "person = {'name': 'John', 'age': 30}\n",
    "print(person)"
   ]
  },
  {
   "cell_type": "markdown",
   "id": "86a27b72",
   "metadata": {},
   "source": [
    "### 10. Loops\n"
   ]
  },
  {
   "cell_type": "markdown",
   "id": "0952d61d",
   "metadata": {},
   "source": [
    "Loops are simply repeating set of statements until certain condition is met"
   ]
  },
  {
   "cell_type": "markdown",
   "id": "a2fccb5c",
   "metadata": {},
   "source": [
    "#### 10.1 For loop"
   ]
  },
  {
   "cell_type": "markdown",
   "id": "1b7837a5",
   "metadata": {},
   "source": [
    "A for loop is used for iterating over a sequence (that is either a list, a tuple, a dictionary, a set, or a string or any other iterable)."
   ]
  },
  {
   "cell_type": "code",
   "execution_count": 24,
   "id": "283871f6",
   "metadata": {},
   "outputs": [
    {
     "name": "stdout",
     "output_type": "stream",
     "text": [
      "24\n"
     ]
    }
   ],
   "source": [
    "fact =1\n",
    "for ele in range(1,5):\n",
    "    fact = fact * ele\n",
    "print(fact)"
   ]
  },
  {
   "cell_type": "markdown",
   "id": "6ca63fd3",
   "metadata": {},
   "source": [
    "#### 10.2 While Loop"
   ]
  },
  {
   "cell_type": "markdown",
   "id": "11fba9c9",
   "metadata": {},
   "source": [
    "while loop executes a set of statements as long as a condition is true."
   ]
  },
  {
   "cell_type": "code",
   "execution_count": 26,
   "id": "79a0b29a",
   "metadata": {},
   "outputs": [
    {
     "name": "stdout",
     "output_type": "stream",
     "text": [
      "120\n"
     ]
    }
   ],
   "source": [
    "n  =5\n",
    "fact =1\n",
    "while n>0:\n",
    "    fact = fact*n\n",
    "    n = n -1\n",
    "print(fact)"
   ]
  },
  {
   "cell_type": "markdown",
   "id": "51c921f0",
   "metadata": {},
   "source": [
    "### 11. Functions"
   ]
  },
  {
   "cell_type": "markdown",
   "id": "5873d564",
   "metadata": {},
   "source": [
    "A function is a block of code which only runs when it is called.\\\n",
    "can be called any number of times"
   ]
  },
  {
   "cell_type": "code",
   "execution_count": 30,
   "id": "a8d2f77d",
   "metadata": {},
   "outputs": [
    {
     "name": "stdout",
     "output_type": "stream",
     "text": [
      "hello\n",
      "world\n",
      "ok\n",
      "10\n"
     ]
    }
   ],
   "source": [
    "def myfunc(x):\n",
    "    print(\"hello\")\n",
    "    print(\"world\")\n",
    "    print(\"ok\")\n",
    "    return x*2\n",
    "    \n",
    "a = myfunc(5)\n",
    "a = a+1\n",
    "print(a)\n"
   ]
  },
  {
   "cell_type": "markdown",
   "id": "574f4e18",
   "metadata": {},
   "source": [
    "### 12. Exception Handling"
   ]
  },
  {
   "cell_type": "markdown",
   "id": "3ed950ee",
   "metadata": {},
   "source": [
    "When an error occurs, or exception as we call it, Python will normally stop and generate an error message.\n",
    "\n",
    "These exceptions/error mesg can be handled using the `try` `except` statement"
   ]
  },
  {
   "cell_type": "code",
   "execution_count": null,
   "id": "bd0a170d",
   "metadata": {},
   "outputs": [],
   "source": []
  },
  {
   "cell_type": "markdown",
   "id": "391c525d",
   "metadata": {},
   "source": [
    "### 13. Objective\n"
   ]
  },
  {
   "cell_type": "markdown",
   "id": "143bf7f1",
   "metadata": {},
   "source": [
    "#### A Calculator app\n",
    "A menu-driven calculator app using the concepts learned."
   ]
  },
  {
   "cell_type": "markdown",
   "id": "578679a4",
   "metadata": {},
   "source": [
    "## Wrap-Up\n"
   ]
  },
  {
   "cell_type": "markdown",
   "id": "749b6d84",
   "metadata": {},
   "source": [
    "Congratulations! You've built your first Python calculator app. You've also learned the basics of variables, data types, control structures, loops, functions, and error handling. Let's prepare for the next session where we'll dive deeper into Python's standard library!"
   ]
  }
 ],
 "metadata": {
  "kernelspec": {
   "display_name": "Python 3",
   "language": "python",
   "name": "python3"
  },
  "language_info": {
   "codemirror_mode": {
    "name": "ipython",
    "version": 3
   },
   "file_extension": ".py",
   "mimetype": "text/x-python",
   "name": "python",
   "nbconvert_exporter": "python",
   "pygments_lexer": "ipython3",
   "version": "3.13.0"
  }
 },
 "nbformat": 4,
 "nbformat_minor": 5
}
